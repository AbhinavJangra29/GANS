{
  "nbformat": 4,
  "nbformat_minor": 0,
  "metadata": {
    "colab": {
      "provenance": [],
      "gpuType": "T4"
    },
    "kernelspec": {
      "name": "python3",
      "display_name": "Python 3"
    },
    "language_info": {
      "name": "python"
    },
    "accelerator": "GPU"
  },
  "cells": [
    {
      "cell_type": "code",
      "execution_count": null,
      "metadata": {
        "id": "ysCoympnunAS"
      },
      "outputs": [],
      "source": [
        "import torch\n",
        "import torch.nn as nn\n"
      ]
    },
    {
      "cell_type": "markdown",
      "source": [
        "disc downsamples"
      ],
      "metadata": {
        "id": "oOfC9brIz1z_"
      }
    },
    {
      "cell_type": "code",
      "source": [
        "class Discriminator(nn.Module):\n",
        "  def __init__(self,channels_img,features_d):\n",
        "    super(Discriminator,self).__init__()\n",
        "    self.disc=nn.Sequential(\n",
        "        #input=N x channels_img x 64 x 64\n",
        "        nn.Conv2d(\n",
        "            channels_img,features_d,kernel_size=4,stride=2,padding=1\n",
        "        ),#32x32\n",
        "        nn.LeakyReLU(0.2),\n",
        "        self._block(features_d,features_d*2,4,2,1),#16x16\n",
        "        self._block(features_d*2,features_d*4,4,2,1),#8x8\n",
        "        self._block(features_d*4,features_d*8,4,2,1),#4x4\n",
        "        nn.Conv2d(features_d*8,1,kernel_size=4,stride=2,padding=0),#1x1\n",
        "        nn.Sigmoid(),\n",
        "\n",
        "    )\n",
        "\n",
        "  def _block(self,in_channels,out_channels,kernel_size,stride,padding):\n",
        "    return nn.Sequential(\n",
        "        nn.Conv2d(in_channels,\n",
        "                  out_channels,\n",
        "                  kernel_size,\n",
        "                  stride,\n",
        "                  padding,\n",
        "                  bias=False,\n",
        "                  ),\n",
        "        nn.BatchNorm2d(out_channels),\n",
        "        nn.LeakyReLU(0.2),\n",
        "\n",
        "    )\n",
        "  def forward(self,x):\n",
        "    return self.disc(x)"
      ],
      "metadata": {
        "id": "qKMDaJPYuyG9"
      },
      "execution_count": null,
      "outputs": []
    },
    {
      "cell_type": "markdown",
      "source": [
        "generator upscales"
      ],
      "metadata": {
        "id": "e3fGI42gzy3V"
      }
    },
    {
      "cell_type": "code",
      "source": [
        "class Generator(nn.Module):\n",
        "  def __init__(self,z_dim,channels_img,features_g):\n",
        "    super(Generator,self).__init__()\n",
        "    self.gen=nn.Sequential(\n",
        "        #ip= N x Z_dim x 1 x 1\n",
        "        self._block(z_dim,features_g*16,4,1,0),\n",
        "        self._block(features_g*16,features_g*8,4,2,1),\n",
        "        self._block(features_g*8,features_g*4,4,2,1),\n",
        "        self._block(features_g*4,features_g*2,4,2,1),\n",
        "        nn.ConvTranspose2d(\n",
        "            features_g*2,channels_img,kernel_size=4,stride=2,padding=1,\n",
        "        ),\n",
        "        nn.Tanh(),\n",
        "\n",
        "    )\n",
        "  def _block(self,in_channels,out_channels,kernel_size,stride,padding):\n",
        "    return nn.Sequential(\n",
        "        nn.ConvTranspose2d(\n",
        "            in_channels,\n",
        "            out_channels,\n",
        "            kernel_size,\n",
        "            stride,\n",
        "            padding,\n",
        "            bias=False,\n",
        "        ),\n",
        "        nn.BatchNorm2d(out_channels),\n",
        "        nn.ReLU(),\n",
        "\n",
        "\n",
        "    )\n",
        "  def forward(self,x):\n",
        "    return self.gen(x)"
      ],
      "metadata": {
        "id": "PE3EWNtLzfCY"
      },
      "execution_count": null,
      "outputs": []
    },
    {
      "cell_type": "code",
      "source": [
        "def initialize_weights(model):\n",
        "  for m in model.modules():\n",
        "    if isinstance(m,(nn.Conv2d,nn.ConvTranspose2d,nn.BatchNorm2d)):\n",
        "      nn.init.normal_(m.weight.data,0.0,0.02)"
      ],
      "metadata": {
        "id": "_gJ4TGPz1t99"
      },
      "execution_count": null,
      "outputs": []
    },
    {
      "cell_type": "code",
      "source": [
        "def test():\n",
        "  N,in_channels,H,W=8,3,64,64\n",
        "  z_dim=100\n",
        "  x=torch.randn((N,in_channels,H,W))\n",
        "  disc=Discriminator(in_channels,8)\n",
        "  initialize_weights(disc)\n",
        "  assert disc(x).shape==(N,1,1,1)\n",
        "  gen=Generator(z_dim,in_channels,8)\n",
        "  initialize_weights(gen)\n",
        "  z=torch.randn((N,z_dim,1,1))\n",
        "  assert gen(z).shape==(N,in_channels,H,W)"
      ],
      "metadata": {
        "id": "ZczIk_RS4BlQ"
      },
      "execution_count": null,
      "outputs": []
    },
    {
      "cell_type": "markdown",
      "source": [
        "training"
      ],
      "metadata": {
        "id": "vit5SI_05SFG"
      }
    },
    {
      "cell_type": "code",
      "source": [
        "import torch\n",
        "import torch.nn as nn\n",
        "import torch.optim as optim\n",
        "import torchvision\n",
        "import torchvision.datasets as datasets\n",
        "import torchvision.transforms as transforms\n",
        "from torch.utils.data import DataLoader"
      ],
      "metadata": {
        "id": "4ihzn4p14u0q"
      },
      "execution_count": null,
      "outputs": []
    },
    {
      "cell_type": "code",
      "source": [
        "#hp\n",
        "LEARNING_RATE=2e-4\n",
        "BATCH_SIZE=128\n",
        "IMAGE_SIZE=64\n",
        "CHANNELS_IMG=1\n",
        "Z_DIM=100\n",
        "NUM_EPOCHS=5\n",
        "FEATURES_DISC=64\n",
        "FEATURES_GEN=64\n",
        "\n",
        "transforms=transforms.Compose(\n",
        "    [\n",
        "    transforms.Resize(IMAGE_SIZE),\n",
        "    transforms.ToTensor(),\n",
        "    transforms.Normalize(\n",
        "        [0.5 for _ in range(CHANNELS_IMG)],[0.5 for _ in range(CHANNELS_IMG)]),\n",
        "    ]\n",
        "    )\n"
      ],
      "metadata": {
        "id": "2XLi0WmV5Q4r"
      },
      "execution_count": null,
      "outputs": []
    },
    {
      "cell_type": "code",
      "source": [
        "dataset=datasets.MNIST(root=\"datasets/\",train=True,transform=transforms,download=True)\n",
        "\n",
        "loader=DataLoader(dataset,batch_size=BATCH_SIZE,shuffle=True)\n",
        "gen=Generator(Z_DIM,CHANNELS_IMG,FEATURES_GEN)\n",
        "disc=Discriminator(CHANNELS_IMG,FEATURES_DISC)\n",
        "initialize_weights(gen)\n",
        "initialize_weights(disc)\n",
        "\n",
        "opt_gen=optim.Adam(gen.parameters(),lr=LEARNING_RATE,betas=(0.5,0.999))\n",
        "opt_disc=optim.Adam(disc.parameters(),lr=LEARNING_RATE,betas=(0.5,0.999))\n",
        "criterion=nn.BCELoss()\n",
        "\n",
        "fixed_noise=torch.randn(32,Z_DIM,1,1)\n"
      ],
      "metadata": {
        "id": "4lVJF89d6C9c"
      },
      "execution_count": null,
      "outputs": []
    },
    {
      "cell_type": "markdown",
      "source": [
        "training"
      ],
      "metadata": {
        "id": "e_MBLW8973rL"
      }
    },
    {
      "cell_type": "code",
      "source": [
        "gen.train()\n",
        "disc.train()\n",
        "\n",
        "for epoch in range(NUM_EPOCHS):\n",
        "  for batch_idx,(real,_) in enumerate(loader):\n",
        "    #train disc\n",
        "    #same as before\n",
        "    noise=torch.randn((BATCH_SIZE,Z_DIM,1,1))\n",
        "    fake=gen(noise)\n",
        "    #log(D(real))\n",
        "    disc_real=disc(real).reshape(-1)\n",
        "    loss_disc_real=criterion(disc_real,torch.ones_like(disc_real))\n",
        "    #log(1-D(G(z)))\n",
        "    disc_fake=disc(fake).reshape(-1)\n",
        "    loss_disc_fake=criterion(disc_fake,torch.zeros_like(disc_fake))\n",
        "    loss_disc=(loss_disc_real + loss_disc_fake)/2\n",
        "    disc.zero_grad()\n",
        "    loss_disc.backward(retain_graph=True)\n",
        "    opt_disc.step()\n",
        "\n",
        "    #gen\n",
        "    output=disc(fake).reshape(-1)\n",
        "    loss_gen=criterion(output,torch.ones_like(output))\n",
        "    gen.zero_grad()\n",
        "    loss_gen.backward()\n",
        "    opt_gen.step()\n",
        "\n",
        "     # Output training stats\n",
        "    if batch_idx% 100 == 0:\n",
        "      print(\n",
        "          f\"Epoch[{epoch}/{NUM_EPOCHS}] Batch {batch_idx}/{len(loader)}\\\n",
        "          Loss D:{loss_disc:.4f},loss G:{loss_gen:.4f}\"\n",
        "      )\n",
        "\n",
        "\n"
      ],
      "metadata": {
        "id": "nJP-m_-L7sSL",
        "colab": {
          "base_uri": "https://localhost:8080/"
        },
        "outputId": "cbc2bbd5-9f18-4492-c0af-b90d339c2ae4"
      },
      "execution_count": null,
      "outputs": [
        {
          "output_type": "stream",
          "name": "stdout",
          "text": [
            "Epoch[0/5] Batch 0/469          Loss D:0.0680,loss G:2.6492\n",
            "Epoch[0/5] Batch 100/469          Loss D:0.1139,loss G:2.8392\n",
            "Epoch[0/5] Batch 200/469          Loss D:0.7351,loss G:0.6675\n",
            "Epoch[0/5] Batch 300/469          Loss D:0.5171,loss G:1.4004\n",
            "Epoch[0/5] Batch 400/469          Loss D:0.5392,loss G:1.1842\n",
            "Epoch[1/5] Batch 0/469          Loss D:0.6237,loss G:1.3240\n",
            "Epoch[1/5] Batch 100/469          Loss D:0.7489,loss G:0.2575\n",
            "Epoch[1/5] Batch 200/469          Loss D:0.5887,loss G:0.7517\n"
          ]
        }
      ]
    },
    {
      "cell_type": "code",
      "source": [],
      "metadata": {
        "id": "d-IbFPPIxVzc"
      },
      "execution_count": null,
      "outputs": []
    }
  ]
}